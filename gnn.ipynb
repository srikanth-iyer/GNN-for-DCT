{
 "cells": [
  {
   "cell_type": "code",
   "execution_count": 1,
   "metadata": {},
   "outputs": [
    {
     "name": "stderr",
     "output_type": "stream",
     "text": [
      "/home/siyer5/GNN-for-DCT/.venv/lib/python3.8/site-packages/torch/__config__.py:10: UserWarning: CUDA initialization: The NVIDIA driver on your system is too old (found version 11070). Please update your GPU driver by downloading and installing a new version from the URL: http://www.nvidia.com/Download/index.aspx Alternatively, go to: https://pytorch.org to install a PyTorch version that has been compiled with your version of the CUDA driver. (Triggered internally at ../c10/cuda/CUDAFunctions.cpp:108.)\n",
      "  return torch._C._show_config()\n"
     ]
    }
   ],
   "source": [
    "import torch\n",
    "import torch.nn as nn\n",
    "import torch.optim as optim\n",
    "import torch.nn.functional as F\n",
    "from torch_geometric.data import Data\n",
    "from torch_geometric.nn import GCNConv\n"
   ]
  },
  {
   "cell_type": "code",
   "execution_count": 129,
   "metadata": {},
   "outputs": [
    {
     "data": {
      "text/plain": [
       "False"
      ]
     },
     "execution_count": 129,
     "metadata": {},
     "output_type": "execute_result"
    }
   ],
   "source": [
    "torch.cuda.is_available()"
   ]
  },
  {
   "cell_type": "code",
   "execution_count": 124,
   "metadata": {},
   "outputs": [
    {
     "name": "stdout",
     "output_type": "stream",
     "text": [
      "Epoch 1/20, Loss: 0.07761598925906629\n",
      "Epoch 2/20, Loss: 0.04245873135380661\n",
      "Epoch 3/20, Loss: 0.041115974884676616\n",
      "Epoch 4/20, Loss: 0.03986991295433297\n",
      "Epoch 5/20, Loss: 0.03960084149497933\n",
      "Epoch 6/20, Loss: 0.038599927479716634\n",
      "Epoch 7/20, Loss: 0.03855370053018744\n",
      "Epoch 8/20, Loss: 0.03854553589371208\n",
      "Epoch 9/20, Loss: 0.03828411595152018\n",
      "Epoch 10/20, Loss: 0.03839492891355754\n",
      "Epoch 11/20, Loss: 0.03838525237158512\n",
      "Epoch 12/20, Loss: 0.03772421073936188\n",
      "Epoch 13/20, Loss: 0.038429872358229734\n",
      "Epoch 14/20, Loss: 0.03926965823105444\n",
      "Epoch 15/20, Loss: 0.03827127118404514\n",
      "Epoch 16/20, Loss: 0.03843506221799329\n",
      "Epoch 17/20, Loss: 0.038489515361295766\n",
      "Epoch 18/20, Loss: 0.03827760990682287\n",
      "Epoch 19/20, Loss: 0.0386010192069835\n",
      "Epoch 20/20, Loss: 0.0385254935462611\n",
      "Accuracy: 0.9931\n"
     ]
    }
   ],
   "source": [
    "import torch\n",
    "import torch.nn.functional as F\n",
    "from torch_geometric.nn import GCNConv\n",
    "from torch_geometric.data import Data, DataLoader\n",
    "\n",
    "# Step 1: Generate a 1D Lattice Graph with 3 neighbors on each side\n",
    "def create_1d_lattice_graph(lattice_size=149, neighbors=3):\n",
    "    edges = []\n",
    "    for i in range(lattice_size):\n",
    "        edges.append([i, i])  # self loop\n",
    "        for j in range(1, neighbors + 1):\n",
    "            edges.append([i, (i - j) % lattice_size])  # Connect to left neighbors\n",
    "            edges.append([i, (i + j) % lattice_size])  # Connect to right neighbors\n",
    "\n",
    "    edge_index = torch.tensor(edges, dtype=torch.long).t().contiguous()\n",
    "    return edge_index\n",
    "\n",
    "# Step 2: Define the GNN Model\n",
    "class GCN(torch.nn.Module):\n",
    "    def __init__(self, input_dim, hidden_dim, output_dim):\n",
    "        super(GCN, self).__init__()\n",
    "        self.conv1 = GCNConv(input_dim, hidden_dim)\n",
    "        self.conv2 = GCNConv(hidden_dim, output_dim)\n",
    "\n",
    "    def forward(self, x, edge_index):\n",
    "        # First GCN layer + ReLU activation\n",
    "        x = self.conv1(x, edge_index)\n",
    "        x = F.relu(x)\n",
    "        # Second GCN layer\n",
    "        x = self.conv2(x, edge_index)\n",
    "        return x\n",
    "\n",
    "def generate_data(lattice_size=149, sample_size=100000, prob=0.5):\n",
    "    if prob < 0 or prob > 1:\n",
    "        raise ValueError('Probability must be between 0 and 1.')\n",
    "    \n",
    "    edge_index = create_1d_lattice_graph(lattice_size=lattice_size)\n",
    "    data_list = []\n",
    "    \n",
    "    for _ in range(sample_size):\n",
    "        if prob == 0.5:\n",
    "            # Generate random input states for each node\n",
    "            x = torch.randint(0, 2, (lattice_size, 1), dtype=torch.float)\n",
    "        elif prob == 0.0:\n",
    "            # Generate all zeros\n",
    "            x = torch.zeros(lattice_size, 1)\n",
    "        elif prob == 1.0:\n",
    "            # Generate all ones\n",
    "            x = torch.ones(lattice_size, 1)\n",
    "        else:\n",
    "            x = torch.bernoulli(prob * torch.ones(lattice_size, 1))\n",
    "        \n",
    "        # Define the binary density classification based on the mean of cell states\n",
    "        y = (x.mean() > 0.5).long().repeat(lattice_size)  # 0 for < 0.5 density, 1 for >= 0.5, repeated to match lattice size\n",
    "        \n",
    "        # Create a Data object and append to the list\n",
    "        data_list.append(Data(x=x, edge_index=edge_index, y=y))\n",
    "    \n",
    "    return data_list\n",
    "\n",
    "# Step 3: Create the data and model\n",
    "lattice_size = 149\n",
    "prob = 0.4\n",
    "train_data_list = generate_data(lattice_size=lattice_size, sample_size=10000, prob=prob)\n",
    "test_data_list = generate_data(lattice_size=lattice_size, sample_size=10000, prob=prob)\n",
    "\n",
    "train_loader = DataLoader(train_data_list, batch_size=32, shuffle=True)\n",
    "test_loader = DataLoader(test_data_list, batch_size=32, shuffle=False)\n",
    "\n",
    "# Define model, optimizer, and loss function\n",
    "model = GCN(input_dim=1, hidden_dim=16, output_dim=2)  # 2 for binary classification\n",
    "optimizer = torch.optim.Adam(model.parameters(), lr=0.01)\n",
    "criterion = torch.nn.CrossEntropyLoss()\n",
    "\n",
    "# Step 4: Training Loop\n",
    "def train(loader, model, optimizer, criterion, epochs=400):\n",
    "    model.train()\n",
    "    for epoch in range(epochs):\n",
    "        total_loss = 0\n",
    "        for data in loader:\n",
    "            optimizer.zero_grad()\n",
    "            out = model(data.x, data.edge_index)  # Forward pass\n",
    "            loss = criterion(out, data.y)         # Compute the loss\n",
    "            loss.backward()                       # Backpropagation\n",
    "            optimizer.step()                      # Update the parameters\n",
    "            total_loss += loss.item()\n",
    "        print(f'Epoch {epoch+1}/{epochs}, Loss: {total_loss/len(loader)}')\n",
    "\n",
    "# Step 5: Testing Loop\n",
    "def test(loader, model):\n",
    "    model.eval()\n",
    "    correct = 0\n",
    "    for data in loader:\n",
    "        out = model(data.x, data.edge_index)\n",
    "        pred = out.argmax(dim=1)\n",
    "        correct += (pred == data.y).sum().item()\n",
    "    accuracy = correct / (len(loader.dataset) * lattice_size)\n",
    "    print(f'Accuracy: {accuracy:.4f}')\n",
    "\n",
    "# Train the model\n",
    "train(train_loader, model, optimizer, criterion, epochs=20)\n",
    "\n",
    "# Test the model\n",
    "test(test_loader, model)"
   ]
  },
  {
   "cell_type": "code",
   "execution_count": 127,
   "metadata": {},
   "outputs": [
    {
     "name": "stdout",
     "output_type": "stream",
     "text": [
      "Accuracy: 0.0066\n"
     ]
    }
   ],
   "source": [
    "sample_test_data = generate_data(lattice_size=lattice_size, sample_size=10000, prob=0.6)\n",
    "sample_test_loader = DataLoader(sample_test_data, batch_size=32, shuffle=False)\n",
    "test(sample_test_loader, model)"
   ]
  },
  {
   "cell_type": "code",
   "execution_count": 44,
   "metadata": {},
   "outputs": [
    {
     "data": {
      "text/plain": [
       "tensor([1, 1, 1, 1, 1, 1, 1, 1, 1, 1, 1, 1, 1, 1, 1, 1, 1, 1, 1, 1, 1, 1, 1, 1,\n",
       "        1, 1, 1, 1, 1, 1, 1, 1, 1, 1, 1, 1, 1, 1, 1, 1, 1, 1, 1, 1, 1, 1, 1, 1,\n",
       "        1, 1, 1, 1, 1, 1, 1, 1, 1, 1, 1, 1, 1, 1, 1, 1, 1, 1, 1, 1, 1, 1, 1, 1,\n",
       "        1, 1, 1, 1, 1, 1, 1, 1, 1, 1, 1, 1, 1, 1, 1, 1, 1, 1, 1, 1, 1, 1, 1, 1,\n",
       "        1, 1, 1, 1, 1, 1, 1, 1, 1, 1, 1, 1, 1, 1, 1, 1, 1, 1, 1, 1, 1, 1, 1, 1,\n",
       "        1, 1, 1, 1, 1, 1, 1, 1, 1, 1, 1, 1, 1, 1, 1, 1, 1, 1, 1, 1, 1, 1, 1, 1,\n",
       "        1, 1, 1, 1, 1])"
      ]
     },
     "execution_count": 44,
     "metadata": {},
     "output_type": "execute_result"
    }
   ],
   "source": [
    "sample = generate_data(lattice_size=149, sample_size=1)\n",
    "sample[0].y"
   ]
  }
 ],
 "metadata": {
  "kernelspec": {
   "display_name": "Python 3",
   "language": "python",
   "name": "python3"
  },
  "language_info": {
   "codemirror_mode": {
    "name": "ipython",
    "version": 3
   },
   "file_extension": ".py",
   "mimetype": "text/x-python",
   "name": "python",
   "nbconvert_exporter": "python",
   "pygments_lexer": "ipython3",
   "version": "3.8.10"
  }
 },
 "nbformat": 4,
 "nbformat_minor": 2
}
