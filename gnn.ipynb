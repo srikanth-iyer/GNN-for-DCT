{
 "cells": [
  {
   "cell_type": "code",
   "execution_count": 1,
   "metadata": {},
   "outputs": [],
   "source": [
    "import torch\n",
    "import torch.nn as nn\n",
    "import torch.optim as optim\n",
    "import torch.nn.functional as F\n",
    "from torch_geometric.data import Data\n",
    "from torch_geometric.nn import GCNConv\n"
   ]
  },
  {
   "cell_type": "code",
   "execution_count": 2,
   "metadata": {},
   "outputs": [
    {
     "data": {
      "text/plain": [
       "True"
      ]
     },
     "execution_count": 2,
     "metadata": {},
     "output_type": "execute_result"
    }
   ],
   "source": [
    "torch.cuda.is_available()"
   ]
  },
  {
   "cell_type": "code",
   "execution_count": 3,
   "metadata": {},
   "outputs": [
    {
     "name": "stderr",
     "output_type": "stream",
     "text": [
      "/home/BU/siyer5/Documents/GNN-for-DCT/.venv/lib/python3.11/site-packages/torch_geometric/deprecation.py:26: UserWarning: 'data.DataLoader' is deprecated, use 'loader.DataLoader' instead\n",
      "  warnings.warn(out)\n"
     ]
    },
    {
     "name": "stdout",
     "output_type": "stream",
     "text": [
      "Epoch 1/400, Loss: 0.6827584981918335\n",
      "Epoch 2/400, Loss: 0.6755966901779175\n",
      "Epoch 3/400, Loss: 0.6689020037651062\n",
      "Epoch 4/400, Loss: 0.6630343079566956\n",
      "Epoch 5/400, Loss: 0.658139455318451\n",
      "Epoch 6/400, Loss: 0.6550302267074585\n",
      "Epoch 7/400, Loss: 0.6537573099136352\n",
      "Epoch 8/400, Loss: 0.6544965744018555\n",
      "Epoch 9/400, Loss: 0.6543773531913757\n",
      "Epoch 10/400, Loss: 0.6543138504028321\n",
      "Epoch 11/400, Loss: 0.6537298202514649\n",
      "Epoch 12/400, Loss: 0.6538084268569946\n",
      "Epoch 13/400, Loss: 0.6538097620010376\n",
      "Epoch 14/400, Loss: 0.6539301156997681\n",
      "Epoch 15/400, Loss: 0.6539788722991944\n",
      "Epoch 16/400, Loss: 0.6537930250167847\n",
      "Epoch 17/400, Loss: 0.6538020372390747\n"
     ]
    }
   ],
   "source": [
    "import torch\n",
    "import torch.nn.functional as F\n",
    "from torch_geometric.nn import GCNConv\n",
    "from torch_geometric.data import Data, DataLoader\n",
    "\n",
    "# Step 1: Generate a 1D Lattice Graph with 3 neighbors on each side\n",
    "def create_1d_lattice_graph(lattice_size=149, neighbors=3):\n",
    "    edges = []\n",
    "    for i in range(lattice_size):\n",
    "        edges.append([i, i])  # self loop\n",
    "        for j in range(1, neighbors + 1):\n",
    "            edges.append([i, (i - j) % lattice_size])  # Connect to left neighbors\n",
    "            edges.append([i, (i + j) % lattice_size])  # Connect to right neighbors\n",
    "\n",
    "    edge_index = torch.tensor(edges, dtype=torch.long).t().contiguous()\n",
    "    return edge_index\n",
    "\n",
    "# Step 2: Define the GNN Model\n",
    "class GCN(torch.nn.Module):\n",
    "    def __init__(self, input_dim, hidden_dim, output_dim):\n",
    "        super(GCN, self).__init__()\n",
    "        self.conv1 = GCNConv(input_dim, hidden_dim)\n",
    "        self.conv2 = GCNConv(hidden_dim, output_dim)\n",
    "\n",
    "    def forward(self, x, edge_index):\n",
    "        # First GCN layer + ReLU activation\n",
    "        x = self.conv1(x, edge_index)\n",
    "        x = F.relu(x)\n",
    "        # Second GCN layer\n",
    "        x = self.conv2(x, edge_index)\n",
    "        return x\n",
    "\n",
    "def generate_data(lattice_size=149, sample_size=100000, prob=0.5):\n",
    "    if prob < 0 or prob > 1:\n",
    "        raise ValueError('Probability must be between 0 and 1.')\n",
    "    \n",
    "    edge_index = create_1d_lattice_graph(lattice_size=lattice_size)\n",
    "    data_list = []\n",
    "    \n",
    "    for _ in range(sample_size):\n",
    "        if prob == 0.5:\n",
    "            # Generate random input states for each node\n",
    "            x = torch.randint(0, 2, (lattice_size, 1), dtype=torch.float)\n",
    "        elif prob == 0.0:\n",
    "            # Generate all zeros\n",
    "            x = torch.zeros(lattice_size, 1)\n",
    "        elif prob == 1.0:\n",
    "            # Generate all ones\n",
    "            x = torch.ones(lattice_size, 1)\n",
    "        else:\n",
    "            x = torch.bernoulli(prob * torch.ones(lattice_size, 1))\n",
    "        \n",
    "        # Define the binary density classification based on the mean of cell states\n",
    "        y = (x.mean() > 0.5).long().repeat(lattice_size)  # 0 for < 0.5 density, 1 for >= 0.5, repeated to match lattice size\n",
    "        \n",
    "        # Create a Data object and append to the list\n",
    "        data_list.append(Data(x=x, edge_index=edge_index, y=y))\n",
    "    \n",
    "    return data_list\n",
    "\n",
    "# Step 3: Create the data and model\n",
    "lattice_size = 149\n",
    "prob = 0.49\n",
    "train_data_list = generate_data(lattice_size=lattice_size, sample_size=20000, prob=prob)\n",
    "test_data_list = generate_data(lattice_size=lattice_size, sample_size=20000, prob=prob)\n",
    "\n",
    "train_loader = DataLoader(train_data_list, batch_size=4098, shuffle=True)\n",
    "test_loader = DataLoader(test_data_list, batch_size=4098, shuffle=False)\n",
    "\n",
    "# Define model, optimizer, and loss function\n",
    "model = GCN(input_dim=1, hidden_dim=32, output_dim=2)  # 2 for binary classification\n",
    "optimizer = torch.optim.Adam(model.parameters(), lr=0.014)\n",
    "criterion = torch.nn.CrossEntropyLoss()\n",
    "\n",
    "# Step 4: Training Loop\n",
    "def train(loader, model, optimizer, criterion, epochs=400, patience=20):\n",
    "    model.train()\n",
    "    recent_losses = []\n",
    "    avg_loss_last=[]\n",
    "    for epoch in range(epochs):\n",
    "        total_loss = 0\n",
    "        for data in loader:\n",
    "            optimizer.zero_grad()\n",
    "            out = model(data.x, data.edge_index)  # Forward pass\n",
    "            loss = criterion(out, data.y)         # Compute the loss\n",
    "            loss.backward()                       # Backpropagation\n",
    "            optimizer.step()                      # Update the parameters\n",
    "            total_loss += loss.item()\n",
    "        \n",
    "        avg_loss = total_loss / len(loader)\n",
    "        print(f'Epoch {epoch+1}/{epochs}, Loss: {avg_loss}')\n",
    "        \n",
    "        # Early stopping if average loss over the last `patience` epochs doesn't reduce\n",
    "        recent_losses.append(avg_loss)\n",
    "        if len(recent_losses) > patience:\n",
    "            avg_loss_last.append(sum(recent_losses) / len(recent_losses))\n",
    "            recent_losses.pop(0)\n",
    "            if len(avg_loss_last) > 1 and avg_loss_last[-2] < avg_loss_last[-1]:\n",
    "                print(f'Early stopping at epoch {epoch+1}')\n",
    "                break\n",
    "            \n",
    "\n",
    "# Step 5: Testing Loop\n",
    "def test(loader, model):\n",
    "    model.eval()\n",
    "    correct = 0\n",
    "    for data in loader:\n",
    "        out = model(data.x, data.edge_index)\n",
    "        pred = out.argmax(dim=1)\n",
    "        correct += (pred == data.y).sum().item()\n",
    "    accuracy = correct / (len(loader.dataset) * lattice_size)\n",
    "    print(f'Accuracy: {accuracy:.4f}')\n",
    "\n",
    "# Train the model\n",
    "train(train_loader, model, optimizer, criterion, epochs=400)"
   ]
  },
  {
   "cell_type": "code",
   "execution_count": 4,
   "metadata": {},
   "outputs": [
    {
     "name": "stdout",
     "output_type": "stream",
     "text": [
      "Accuracy: 0.8380\n"
     ]
    }
   ],
   "source": [
    "\n",
    "# Test the model\n",
    "test(test_loader, model)"
   ]
  },
  {
   "cell_type": "code",
   "execution_count": 5,
   "metadata": {},
   "outputs": [
    {
     "name": "stderr",
     "output_type": "stream",
     "text": [
      "/home/BU/siyer5/Documents/GNN-for-DCT/.venv/lib/python3.11/site-packages/torch_geometric/deprecation.py:26: UserWarning: 'data.DataLoader' is deprecated, use 'loader.DataLoader' instead\n",
      "  warnings.warn(out)\n"
     ]
    }
   ],
   "source": [
    "import matplotlib.pyplot as plt\n",
    "\n",
    "probabilities = [i * 0.01 for i in range(101)]\n",
    "accuracies = []\n",
    "\n",
    "for prob in probabilities:\n",
    "    sample_test_data = generate_data(lattice_size=lattice_size, sample_size=10000, prob=prob)\n",
    "    sample_test_loader = DataLoader(sample_test_data, batch_size=4098, shuffle=False)\n",
    "    correct = 0\n",
    "    model.eval()\n",
    "    for data in sample_test_loader:\n",
    "        out = model(data.x, data.edge_index)\n",
    "        pred = out.argmax(dim=1)\n",
    "        correct += (pred == data.y).sum().item()\n",
    "    accuracy = correct / (len(sample_test_loader.dataset) * lattice_size)\n",
    "    accuracies.append(accuracy)\n"
   ]
  },
  {
   "cell_type": "code",
   "execution_count": 6,
   "metadata": {},
   "outputs": [
    {
     "data": {
      "image/png": "[encoded data removed]",
      "text/plain": [
       "<Figure size 640x480 with 1 Axes>"
      ]
     },
     "metadata": {},
     "output_type": "display_data"
    }
   ],
   "source": [
    "\n",
    "plt.plot(probabilities, accuracies)\n",
    "plt.xlabel('Probability')\n",
    "plt.ylabel('Accuracy')\n",
    "plt.title('Accuracy vs Probability')\n",
    "plt.grid(True)\n",
    "plt.show()"
   ]
  },
  {
   "cell_type": "code",
   "execution_count": 7,
   "metadata": {},
   "outputs": [],
   "source": [
    "# sample = generate_data(lattice_size=149, sample_size=1)\n",
    "# sample[0].y"
   ]
  }
 ],
 "metadata": {
  "kernelspec": {
   "display_name": "Python 3",
   "language": "python",
   "name": "python3"
  },
  "language_info": {
   "codemirror_mode": {
    "name": "ipython",
    "version": 3
   },
   "file_extension": ".py",
   "mimetype": "text/x-python",
   "name": "python",
   "nbconvert_exporter": "python",
   "pygments_lexer": "ipython3",
   "version": "3.11.9"
  }
 },
 "nbformat": 4,
 "nbformat_minor": 2
}
